{
 "cells": [
  {
   "cell_type": "code",
   "execution_count": 8,
   "metadata": {
    "polyglot_notebook": {
     "kernelName": "csharp"
    },
    "vscode": {
     "languageId": "polyglot-notebook"
    }
   },
   "outputs": [
    {
     "name": "stdout",
     "output_type": "stream",
     "text": [
      "First value\n",
      "Second value\n",
      "Singleton 有效，两个变量包含相同的实例。\n"
     ]
    }
   ],
   "source": [
    "// Singleton 类定义了 `GetInstance` 方法，它可以作为构造函数的替代，并允许客户端反复访问此类的相同实例。\n",
    "// EN：Singleton 应该始终是一个“密封”类，以防止通过外部类以及嵌套类进行类继承。\n",
    "public sealed class Singleton\n",
    "{\n",
    "    // Singleton 的构造函数应该始终是私有的，以防止使用“new”运算符直接构造调用。\n",
    "    private Singleton() { }\n",
    "\n",
    "    // Singleton 实例存储在静态字段中。\n",
    "    // 有多种初始化此字段的方法，它们各有优缺点。\n",
    "    // 在本例中，我们将展示这些方法中最简单的一种，然而，这种方法在多线程程序中实际上并不适用。\n",
    "    private static Singleton? _instance;\n",
    "\n",
    "    // 这是控制对Singleton实例访问的静态方法。\n",
    "    // 在第一次运行时，它创建一个Singleton对象并将其放置到静态字段中。\n",
    "    // 在随后的运行中，它返回存储在静态字段中的现有客户端对象。\n",
    "    public static Singleton GetInstance()\n",
    "    {\n",
    "        _instance ??= new Singleton();\n",
    "        return _instance;\n",
    "    }\n",
    "\n",
    "    // 我们将使用此属性来证明我们的 Singleton 确实有效。\n",
    "    public string Value { get; set; } = null!;\n",
    "}\n",
    "\n",
    "Singleton s1 = Singleton.GetInstance();\n",
    "s1.Value = \"First value\";\n",
    "Console.WriteLine(s1.Value);\n",
    "Singleton s2 = Singleton.GetInstance();\n",
    "s2.Value = \"Second value\";\n",
    "Console.WriteLine(s2.Value);\n",
    "\n",
    "if (s1 == s2)\n",
    "{\n",
    "    Console.WriteLine(\"Singleton 有效，两个变量包含相同的实例。\");\n",
    "}\n",
    "else\n",
    "{\n",
    "    Console.WriteLine(\"Singleton 失败，两个变量包含不同的实例。\");\n",
    "}"
   ]
  }
 ],
 "metadata": {
  "kernelspec": {
   "display_name": ".NET (C#)",
   "language": "C#",
   "name": ".net-csharp"
  },
  "language_info": {
   "name": "csharp"
  },
  "polyglot_notebook": {
   "kernelInfo": {
    "defaultKernelName": "csharp",
    "items": [
     {
      "aliases": [],
      "name": "csharp"
     }
    ]
   }
  }
 },
 "nbformat": 4,
 "nbformat_minor": 2
}
